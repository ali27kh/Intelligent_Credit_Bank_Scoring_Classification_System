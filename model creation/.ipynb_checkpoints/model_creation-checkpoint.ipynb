{
 "cells": [
  {
   "cell_type": "code",
   "execution_count": 1,
   "id": "eb634fd6",
   "metadata": {},
   "outputs": [],
   "source": [
    "import numpy as np\n",
    "import pandas as pd\n",
    "import matplotlib.pyplot as plt\n",
    "import seaborn as sns\n",
    "import missingno as msno\n",
    "from sklearn.model_selection import train_test_split, cross_val_predict\n",
    "from sklearn.metrics import confusion_matrix, accuracy_score, recall_score, f1_score, classification_report\n",
    "from sklearn.linear_model import LogisticRegression\n",
    "from sklearn.svm import SVC\n",
    "from sklearn.neighbors import KNeighborsClassifier\n",
    "from sklearn.ensemble import GradientBoostingClassifier, AdaBoostClassifier\n",
    "from sklearn.preprocessing import LabelEncoder\n",
    "import joblib\n",
    "%matplotlib inline"
   ]
  },
  {
   "cell_type": "code",
   "execution_count": 3,
   "id": "6cb8ad8a",
   "metadata": {},
   "outputs": [],
   "source": [
    "dataset= pd.read_csv(r\"data.csv\")"
   ]
  },
  {
   "cell_type": "markdown",
   "id": "82038aa9",
   "metadata": {},
   "source": [
    "## I-Analyser la base:"
   ]
  },
  {
   "cell_type": "markdown",
   "id": "e9d3cc58",
   "metadata": {},
   "source": [
    "### 1)Statistique de la base: "
   ]
  },
  {
   "cell_type": "code",
   "execution_count": 4,
   "id": "7909e195",
   "metadata": {},
   "outputs": [
    {
     "data": {
      "text/html": [
       "<div>\n",
       "<style scoped>\n",
       "    .dataframe tbody tr th:only-of-type {\n",
       "        vertical-align: middle;\n",
       "    }\n",
       "\n",
       "    .dataframe tbody tr th {\n",
       "        vertical-align: top;\n",
       "    }\n",
       "\n",
       "    .dataframe thead th {\n",
       "        text-align: right;\n",
       "    }\n",
       "</style>\n",
       "<table border=\"1\" class=\"dataframe\">\n",
       "  <thead>\n",
       "    <tr style=\"text-align: right;\">\n",
       "      <th></th>\n",
       "      <th>Sexe</th>\n",
       "      <th>age</th>\n",
       "      <th>Emploi</th>\n",
       "      <th>Telephone</th>\n",
       "      <th>statut_personnel</th>\n",
       "      <th>mois_pret_duree</th>\n",
       "      <th>historique de credit</th>\n",
       "      <th>but</th>\n",
       "      <th>Prix ( TND)</th>\n",
       "      <th>personnes a charge</th>\n",
       "      <th>solde_d'epargne</th>\n",
       "      <th>duree_emploi</th>\n",
       "      <th>taux de versement ( par mois )</th>\n",
       "      <th>autres_debiteurs</th>\n",
       "      <th>Historique residence</th>\n",
       "      <th>propriete</th>\n",
       "      <th>logement</th>\n",
       "      <th>credits_existants</th>\n",
       "      <th>Score</th>\n",
       "    </tr>\n",
       "  </thead>\n",
       "  <tbody>\n",
       "    <tr>\n",
       "      <th>0</th>\n",
       "      <td>Homme</td>\n",
       "      <td>67</td>\n",
       "      <td>employe qualifie</td>\n",
       "      <td>21306316</td>\n",
       "      <td>Celibataire</td>\n",
       "      <td>6</td>\n",
       "      <td>critique</td>\n",
       "      <td>Electronique</td>\n",
       "      <td>2338</td>\n",
       "      <td>1</td>\n",
       "      <td>0</td>\n",
       "      <td>13 ans</td>\n",
       "      <td>4</td>\n",
       "      <td>rien</td>\n",
       "      <td>6 ans</td>\n",
       "      <td>immobilier</td>\n",
       "      <td>propre</td>\n",
       "      <td>2</td>\n",
       "      <td>0</td>\n",
       "    </tr>\n",
       "    <tr>\n",
       "      <th>1</th>\n",
       "      <td>Femme</td>\n",
       "      <td>22</td>\n",
       "      <td>employe qualifie</td>\n",
       "      <td>29241770</td>\n",
       "      <td>NaN</td>\n",
       "      <td>48</td>\n",
       "      <td>rembourse</td>\n",
       "      <td>Electronique</td>\n",
       "      <td>1190</td>\n",
       "      <td>1</td>\n",
       "      <td>890</td>\n",
       "      <td>2 annees</td>\n",
       "      <td>2</td>\n",
       "      <td>rien</td>\n",
       "      <td>5 mois</td>\n",
       "      <td>immobilier</td>\n",
       "      <td>propre</td>\n",
       "      <td>1</td>\n",
       "      <td>1</td>\n",
       "    </tr>\n",
       "    <tr>\n",
       "      <th>2</th>\n",
       "      <td>Homme</td>\n",
       "      <td>45</td>\n",
       "      <td>employe qualifie</td>\n",
       "      <td>20505876</td>\n",
       "      <td>Celibataire</td>\n",
       "      <td>42</td>\n",
       "      <td>rembourse</td>\n",
       "      <td>meubles</td>\n",
       "      <td>15764</td>\n",
       "      <td>2</td>\n",
       "      <td>90</td>\n",
       "      <td>5 annees</td>\n",
       "      <td>2</td>\n",
       "      <td>garant</td>\n",
       "      <td>13 ans</td>\n",
       "      <td>l'epargne de la societe de construction</td>\n",
       "      <td>gratuitement</td>\n",
       "      <td>1</td>\n",
       "      <td>0</td>\n",
       "    </tr>\n",
       "    <tr>\n",
       "      <th>3</th>\n",
       "      <td>Homme</td>\n",
       "      <td>35</td>\n",
       "      <td>resident non qualifie</td>\n",
       "      <td>24268700</td>\n",
       "      <td>Celibataire</td>\n",
       "      <td>36</td>\n",
       "      <td>rembourse</td>\n",
       "      <td>education</td>\n",
       "      <td>18110</td>\n",
       "      <td>2</td>\n",
       "      <td>0</td>\n",
       "      <td>2 annees</td>\n",
       "      <td>2</td>\n",
       "      <td>rien</td>\n",
       "      <td>8 annees</td>\n",
       "      <td>inconnu/aucun</td>\n",
       "      <td>gratuitement</td>\n",
       "      <td>1</td>\n",
       "      <td>0</td>\n",
       "    </tr>\n",
       "    <tr>\n",
       "      <th>4</th>\n",
       "      <td>Homme</td>\n",
       "      <td>35</td>\n",
       "      <td>independant de gestion</td>\n",
       "      <td>27233723</td>\n",
       "      <td>Celibataire</td>\n",
       "      <td>36</td>\n",
       "      <td>rembourse</td>\n",
       "      <td>voiture (occasion)</td>\n",
       "      <td>13896</td>\n",
       "      <td>1</td>\n",
       "      <td>570</td>\n",
       "      <td>2 annees</td>\n",
       "      <td>2</td>\n",
       "      <td>rien</td>\n",
       "      <td>3 mois</td>\n",
       "      <td>autre</td>\n",
       "      <td>louer</td>\n",
       "      <td>1</td>\n",
       "      <td>0</td>\n",
       "    </tr>\n",
       "    <tr>\n",
       "      <th>...</th>\n",
       "      <td>...</td>\n",
       "      <td>...</td>\n",
       "      <td>...</td>\n",
       "      <td>...</td>\n",
       "      <td>...</td>\n",
       "      <td>...</td>\n",
       "      <td>...</td>\n",
       "      <td>...</td>\n",
       "      <td>...</td>\n",
       "      <td>...</td>\n",
       "      <td>...</td>\n",
       "      <td>...</td>\n",
       "      <td>...</td>\n",
       "      <td>...</td>\n",
       "      <td>...</td>\n",
       "      <td>...</td>\n",
       "      <td>...</td>\n",
       "      <td>...</td>\n",
       "      <td>...</td>\n",
       "    </tr>\n",
       "    <tr>\n",
       "      <th>4243</th>\n",
       "      <td>Homme</td>\n",
       "      <td>29</td>\n",
       "      <td>independant de gestion</td>\n",
       "      <td>24967714</td>\n",
       "      <td>Celibataire</td>\n",
       "      <td>24</td>\n",
       "      <td>rembourse</td>\n",
       "      <td>voiture (occasion)</td>\n",
       "      <td>13158</td>\n",
       "      <td>1</td>\n",
       "      <td>210</td>\n",
       "      <td>NaN</td>\n",
       "      <td>4</td>\n",
       "      <td>rien</td>\n",
       "      <td>10 mois</td>\n",
       "      <td>inconnu/aucun</td>\n",
       "      <td>gratuitement</td>\n",
       "      <td>1</td>\n",
       "      <td>0</td>\n",
       "    </tr>\n",
       "    <tr>\n",
       "      <th>4244</th>\n",
       "      <td>Homme</td>\n",
       "      <td>48</td>\n",
       "      <td>resident non qualifie</td>\n",
       "      <td>27697199</td>\n",
       "      <td>Celibataire</td>\n",
       "      <td>24</td>\n",
       "      <td>critique</td>\n",
       "      <td>Electronique</td>\n",
       "      <td>3486</td>\n",
       "      <td>1</td>\n",
       "      <td>400</td>\n",
       "      <td>13 ans</td>\n",
       "      <td>4</td>\n",
       "      <td>rien</td>\n",
       "      <td>4 mois</td>\n",
       "      <td>l'epargne de la societe de construction</td>\n",
       "      <td>propre</td>\n",
       "      <td>2</td>\n",
       "      <td>0</td>\n",
       "    </tr>\n",
       "    <tr>\n",
       "      <th>4245</th>\n",
       "      <td>Homme</td>\n",
       "      <td>50</td>\n",
       "      <td>employe qualifie</td>\n",
       "      <td>23616215</td>\n",
       "      <td>Celibataire</td>\n",
       "      <td>12</td>\n",
       "      <td>rembourse</td>\n",
       "      <td>voiture (neuve)</td>\n",
       "      <td>4780</td>\n",
       "      <td>1</td>\n",
       "      <td>0</td>\n",
       "      <td>17 ans</td>\n",
       "      <td>4</td>\n",
       "      <td>rien</td>\n",
       "      <td>1 ans</td>\n",
       "      <td>autre</td>\n",
       "      <td>propre</td>\n",
       "      <td>1</td>\n",
       "      <td>0</td>\n",
       "    </tr>\n",
       "    <tr>\n",
       "      <th>4246</th>\n",
       "      <td>Homme</td>\n",
       "      <td>38</td>\n",
       "      <td>employe qualifie</td>\n",
       "      <td>24888543</td>\n",
       "      <td>Celibataire</td>\n",
       "      <td>12</td>\n",
       "      <td>rembourse</td>\n",
       "      <td>Electronique</td>\n",
       "      <td>1608</td>\n",
       "      <td>1</td>\n",
       "      <td>440</td>\n",
       "      <td>13 ans</td>\n",
       "      <td>4</td>\n",
       "      <td>rien</td>\n",
       "      <td>16 ans</td>\n",
       "      <td>autre</td>\n",
       "      <td>propre</td>\n",
       "      <td>1</td>\n",
       "      <td>0</td>\n",
       "    </tr>\n",
       "    <tr>\n",
       "      <th>4247</th>\n",
       "      <td>Homme</td>\n",
       "      <td>23</td>\n",
       "      <td>employe qualifie</td>\n",
       "      <td>20508227</td>\n",
       "      <td>Celibataire</td>\n",
       "      <td>45</td>\n",
       "      <td>rembourse</td>\n",
       "      <td>Electronique</td>\n",
       "      <td>3690</td>\n",
       "      <td>1</td>\n",
       "      <td>310</td>\n",
       "      <td>2 annees</td>\n",
       "      <td>4</td>\n",
       "      <td>rien</td>\n",
       "      <td>8 annees</td>\n",
       "      <td>inconnu/aucun</td>\n",
       "      <td>gratuitement</td>\n",
       "      <td>1</td>\n",
       "      <td>1</td>\n",
       "    </tr>\n",
       "  </tbody>\n",
       "</table>\n",
       "<p>4248 rows × 19 columns</p>\n",
       "</div>"
      ],
      "text/plain": [
       "       Sexe  age                  Emploi  Telephone statut_personnel  \\\n",
       "0     Homme   67        employe qualifie   21306316      Celibataire   \n",
       "1     Femme   22        employe qualifie   29241770              NaN   \n",
       "2     Homme   45        employe qualifie   20505876      Celibataire   \n",
       "3     Homme   35   resident non qualifie   24268700      Celibataire   \n",
       "4     Homme   35  independant de gestion   27233723      Celibataire   \n",
       "...     ...  ...                     ...        ...              ...   \n",
       "4243  Homme   29  independant de gestion   24967714      Celibataire   \n",
       "4244  Homme   48   resident non qualifie   27697199      Celibataire   \n",
       "4245  Homme   50        employe qualifie   23616215      Celibataire   \n",
       "4246  Homme   38        employe qualifie   24888543      Celibataire   \n",
       "4247  Homme   23        employe qualifie   20508227      Celibataire   \n",
       "\n",
       "      mois_pret_duree historique de credit                 but  Prix ( TND)  \\\n",
       "0                   6             critique        Electronique         2338   \n",
       "1                  48            rembourse        Electronique         1190   \n",
       "2                  42            rembourse             meubles        15764   \n",
       "3                  36            rembourse           education        18110   \n",
       "4                  36            rembourse  voiture (occasion)        13896   \n",
       "...               ...                  ...                 ...          ...   \n",
       "4243               24            rembourse  voiture (occasion)        13158   \n",
       "4244               24             critique        Electronique         3486   \n",
       "4245               12            rembourse     voiture (neuve)         4780   \n",
       "4246               12            rembourse        Electronique         1608   \n",
       "4247               45            rembourse        Electronique         3690   \n",
       "\n",
       "      personnes a charge  solde_d'epargne duree_emploi  \\\n",
       "0                      1                0       13 ans   \n",
       "1                      1              890     2 annees   \n",
       "2                      2               90     5 annees   \n",
       "3                      2                0     2 annees   \n",
       "4                      1              570     2 annees   \n",
       "...                  ...              ...          ...   \n",
       "4243                   1              210          NaN   \n",
       "4244                   1              400       13 ans   \n",
       "4245                   1                0       17 ans   \n",
       "4246                   1              440       13 ans   \n",
       "4247                   1              310     2 annees   \n",
       "\n",
       "      taux de versement ( par mois )  autres_debiteurs Historique residence  \\\n",
       "0                                   4             rien                6 ans   \n",
       "1                                   2             rien               5 mois   \n",
       "2                                   2           garant               13 ans   \n",
       "3                                   2             rien             8 annees   \n",
       "4                                   2             rien               3 mois   \n",
       "...                               ...              ...                  ...   \n",
       "4243                                4             rien              10 mois   \n",
       "4244                                4             rien               4 mois   \n",
       "4245                                4             rien                1 ans   \n",
       "4246                                4             rien               16 ans   \n",
       "4247                                4             rien             8 annees   \n",
       "\n",
       "                                    propriete      logement  \\\n",
       "0                                  immobilier        propre   \n",
       "1                                  immobilier        propre   \n",
       "2     l'epargne de la societe de construction  gratuitement   \n",
       "3                               inconnu/aucun  gratuitement   \n",
       "4                                       autre         louer   \n",
       "...                                       ...           ...   \n",
       "4243                            inconnu/aucun  gratuitement   \n",
       "4244  l'epargne de la societe de construction        propre   \n",
       "4245                                    autre        propre   \n",
       "4246                                    autre        propre   \n",
       "4247                            inconnu/aucun  gratuitement   \n",
       "\n",
       "      credits_existants  Score  \n",
       "0                     2      0  \n",
       "1                     1      1  \n",
       "2                     1      0  \n",
       "3                     1      0  \n",
       "4                     1      0  \n",
       "...                 ...    ...  \n",
       "4243                  1      0  \n",
       "4244                  2      0  \n",
       "4245                  1      0  \n",
       "4246                  1      0  \n",
       "4247                  1      1  \n",
       "\n",
       "[4248 rows x 19 columns]"
      ]
     },
     "execution_count": 4,
     "metadata": {},
     "output_type": "execute_result"
    }
   ],
   "source": [
    "dataset"
   ]
  },
  {
   "cell_type": "code",
   "execution_count": 5,
   "id": "d4e4f55f",
   "metadata": {},
   "outputs": [],
   "source": [
    "dataset.drop(columns=['Telephone'], inplace=True)"
   ]
  },
  {
   "cell_type": "code",
   "execution_count": 6,
   "id": "23d09561",
   "metadata": {},
   "outputs": [
    {
     "data": {
      "text/plain": [
       "Sexe                                  0\n",
       "age                                   0\n",
       "Emploi                                0\n",
       "statut_personnel                   1260\n",
       "mois_pret_duree                       0\n",
       "historique de credit                  0\n",
       "but                                   0\n",
       "Prix ( TND)                           0\n",
       "personnes a charge                    0\n",
       "solde_d'epargne                       0\n",
       "duree_emploi                        282\n",
       "taux de versement ( par mois )        0\n",
       "autres_debiteurs                      0\n",
       "Historique residence                522\n",
       "propriete                             0\n",
       "logement                              0\n",
       "credits_existants                     0\n",
       "Score                                 0\n",
       "dtype: int64"
      ]
     },
     "execution_count": 6,
     "metadata": {},
     "output_type": "execute_result"
    }
   ],
   "source": [
    "dataset.isna().sum()"
   ]
  },
  {
   "cell_type": "code",
   "execution_count": 7,
   "id": "108d562c",
   "metadata": {},
   "outputs": [
    {
     "data": {
      "text/plain": [
       "(4248, 18)"
      ]
     },
     "execution_count": 7,
     "metadata": {},
     "output_type": "execute_result"
    }
   ],
   "source": [
    "dataset.shape"
   ]
  },
  {
   "cell_type": "code",
   "execution_count": 8,
   "id": "bd9b7473",
   "metadata": {},
   "outputs": [
    {
     "name": "stderr",
     "output_type": "stream",
     "text": [
      "C:\\Users\\ALI\\anaconda3\\lib\\site-packages\\seaborn\\_decorators.py:36: FutureWarning: Pass the following variable as a keyword arg: x. From version 0.12, the only valid positional argument will be `data`, and passing other arguments without an explicit keyword will result in an error or misinterpretation.\n",
      "  warnings.warn(\n"
     ]
    },
    {
     "data": {
      "text/plain": [
       "<Axes: xlabel='Score', ylabel='count'>"
      ]
     },
     "execution_count": 8,
     "metadata": {},
     "output_type": "execute_result"
    },
    {
     "data": {
      "image/png": "[encoded data removed]",
      "text/plain": [
       "<Figure size 432x288 with 1 Axes>"
      ]
     },
     "metadata": {
      "needs_background": "light"
     },
     "output_type": "display_data"
    }
   ],
   "source": [
    "sns.countplot(dataset.Score)"
   ]
  },
  {
   "cell_type": "code",
   "execution_count": 9,
   "id": "fe379b9c",
   "metadata": {},
   "outputs": [
    {
     "data": {
      "text/plain": [
       "Score\n",
       "0    2982\n",
       "1    1266\n",
       "Name: count, dtype: int64"
      ]
     },
     "execution_count": 9,
     "metadata": {},
     "output_type": "execute_result"
    }
   ],
   "source": [
    "dataset['Score'].value_counts()"
   ]
  },
  {
   "cell_type": "code",
   "execution_count": 10,
   "id": "b7b381bd",
   "metadata": {},
   "outputs": [
    {
     "data": {
      "text/plain": [
       "Sexe\n",
       "Homme    2988\n",
       "Femme    1260\n",
       "Name: count, dtype: int64"
      ]
     },
     "execution_count": 10,
     "metadata": {},
     "output_type": "execute_result"
    }
   ],
   "source": [
    "dataset['Sexe'].value_counts()"
   ]
  },
  {
   "cell_type": "code",
   "execution_count": 11,
   "id": "6aae0a98",
   "metadata": {},
   "outputs": [
    {
     "data": {
      "text/plain": [
       "credits_existants\n",
       "1    2646\n",
       "2    1440\n",
       "3     126\n",
       "4      36\n",
       "Name: count, dtype: int64"
      ]
     },
     "execution_count": 11,
     "metadata": {},
     "output_type": "execute_result"
    }
   ],
   "source": [
    "dataset['credits_existants'].value_counts()"
   ]
  },
  {
   "cell_type": "code",
   "execution_count": 12,
   "id": "731118dd",
   "metadata": {},
   "outputs": [
    {
     "data": {
      "text/plain": [
       "count    4248.000000\n",
       "mean       35.877119\n",
       "std        11.549729\n",
       "min        19.000000\n",
       "25%        27.000000\n",
       "50%        33.000000\n",
       "75%        42.000000\n",
       "max        75.000000\n",
       "Name: age, dtype: float64"
      ]
     },
     "execution_count": 12,
     "metadata": {},
     "output_type": "execute_result"
    }
   ],
   "source": [
    "(dataset['age']).describe()"
   ]
  },
  {
   "cell_type": "code",
   "execution_count": 13,
   "id": "68fde2b4",
   "metadata": {},
   "outputs": [
    {
     "data": {
      "image/png": "[encoded data removed]",
      "text/plain": [
       "<Figure size 1008x504 with 1 Axes>"
      ]
     },
     "metadata": {
      "needs_background": "light"
     },
     "output_type": "display_data"
    }
   ],
   "source": [
    "fig, ax = plt.subplots(figsize=(14, 7))\n",
    "sns.histplot(dataset['age'], bins=7, kde=False, color='lightgray', ax=ax)\n",
    "counts, bins, patches = ax.hist(dataset['age'], bins=7, color='blue', alpha=0.7)\n",
    "for count, bin, patch in zip(counts, bins, patches):\n",
    "    height = patch.get_height()\n",
    "    ax.annotate(f'{int(count)}', xy=(bin, height), xytext=(0, 5), textcoords='offset points', ha='center', va='bottom')\n",
    "\n",
    "plt.xlabel(\"Age du client (années)\")\n",
    "plt.ylabel(\"Fréquence\")\n",
    "plt.title(\"Distribution de l'âge des clients\")\n",
    "plt.show()"
   ]
  },
  {
   "cell_type": "code",
   "execution_count": 14,
   "id": "70ab84f7",
   "metadata": {},
   "outputs": [
    {
     "data": {
      "image/png": "[encoded data removed]",
      "text/plain": [
       "<Figure size 1008x648 with 1 Axes>"
      ]
     },
     "metadata": {
      "needs_background": "light"
     },
     "output_type": "display_data"
    }
   ],
   "source": [
    "plt.figure(figsize = (14, 9))\n",
    "\n",
    "ax = dataset['Emploi'].value_counts().plot(kind='barh')\n",
    "for index, value in enumerate(dataset['Emploi'].value_counts()):\n",
    "    ax.text(value, index, str(value))\n",
    "plt.title(\"Distribution d'emploi des clients\")\n",
    "plt.grid()"
   ]
  },
  {
   "cell_type": "code",
   "execution_count": 15,
   "id": "c9fce727",
   "metadata": {},
   "outputs": [
    {
     "data": {
      "text/plain": [
       "statut_personnel\n",
       "Celibataire    2406\n",
       "marie           384\n",
       "divorce         198\n",
       "Name: count, dtype: int64"
      ]
     },
     "execution_count": 15,
     "metadata": {},
     "output_type": "execute_result"
    }
   ],
   "source": [
    "dataset['statut_personnel'].value_counts()"
   ]
  },
  {
   "cell_type": "markdown",
   "id": "e388b3bb",
   "metadata": {},
   "source": [
    "### Analyser les valeurs NAN:"
   ]
  },
  {
   "cell_type": "code",
   "execution_count": 16,
   "id": "060e1ce6",
   "metadata": {},
   "outputs": [
    {
     "data": {
      "text/html": [
       "<div>\n",
       "<style scoped>\n",
       "    .dataframe tbody tr th:only-of-type {\n",
       "        vertical-align: middle;\n",
       "    }\n",
       "\n",
       "    .dataframe tbody tr th {\n",
       "        vertical-align: top;\n",
       "    }\n",
       "\n",
       "    .dataframe thead th {\n",
       "        text-align: right;\n",
       "    }\n",
       "</style>\n",
       "<table border=\"1\" class=\"dataframe\">\n",
       "  <thead>\n",
       "    <tr style=\"text-align: right;\">\n",
       "      <th></th>\n",
       "      <th>Missing Count</th>\n",
       "      <th>Missing Count Ratio</th>\n",
       "      <th>Missing Count %</th>\n",
       "    </tr>\n",
       "  </thead>\n",
       "  <tbody>\n",
       "    <tr>\n",
       "      <th>statut_personnel</th>\n",
       "      <td>1260</td>\n",
       "      <td>0.296610</td>\n",
       "      <td>29.7</td>\n",
       "    </tr>\n",
       "    <tr>\n",
       "      <th>Historique residence</th>\n",
       "      <td>522</td>\n",
       "      <td>0.122881</td>\n",
       "      <td>12.3</td>\n",
       "    </tr>\n",
       "    <tr>\n",
       "      <th>duree_emploi</th>\n",
       "      <td>282</td>\n",
       "      <td>0.066384</td>\n",
       "      <td>6.6</td>\n",
       "    </tr>\n",
       "  </tbody>\n",
       "</table>\n",
       "</div>"
      ],
      "text/plain": [
       "                      Missing Count  Missing Count Ratio  Missing Count %\n",
       "statut_personnel               1260             0.296610             29.7\n",
       "Historique residence            522             0.122881             12.3\n",
       "duree_emploi                    282             0.066384              6.6"
      ]
     },
     "execution_count": 16,
     "metadata": {},
     "output_type": "execute_result"
    }
   ],
   "source": [
    "def missing_columns(dataframe):\n",
    "    \"\"\"\n",
    "    Returns a dataframe that contains missing column names and \n",
    "    percent of missing values in relation to the whole dataframe.\n",
    "    \n",
    "    dataframe: dataframe that gives the column names and their % of missing values\n",
    "    \"\"\"\n",
    "    \n",
    "    # find the missing values\n",
    "    missing_values = dataframe.isnull().sum().sort_values(ascending=False)\n",
    "    \n",
    "    # percentage of missing values in relation to the overall size\n",
    "    missing_values_pct = 100 * missing_values/len(dataframe)\n",
    "    \n",
    "    # create a new dataframe which is a concatinated version\n",
    "    concat_values = pd.concat([missing_values, missing_values/len(dataframe),missing_values_pct.round(1)],axis=1)\n",
    "\n",
    "    # give new col names\n",
    "    concat_values.columns = ['Missing Count','Missing Count Ratio','Missing Count %']\n",
    "    \n",
    "    # return the required values\n",
    "    return concat_values[concat_values.iloc[:,1]!=0]\n",
    "missing_columns(dataset)"
   ]
  },
  {
   "cell_type": "code",
   "execution_count": 17,
   "id": "aa637deb",
   "metadata": {},
   "outputs": [
    {
     "data": {
      "text/plain": [
       "<Axes: >"
      ]
     },
     "execution_count": 17,
     "metadata": {},
     "output_type": "execute_result"
    },
    {
     "data": {
      "image/png": "[encoded data removed]",
      "text/plain": [
       "<Figure size 1800x720 with 3 Axes>"
      ]
     },
     "metadata": {
      "needs_background": "light"
     },
     "output_type": "display_data"
    }
   ],
   "source": [
    "msno.bar(dataset)"
   ]
  },
  {
   "cell_type": "code",
   "execution_count": 18,
   "id": "8e5f3247",
   "metadata": {},
   "outputs": [
    {
     "data": {
      "text/plain": [
       "<Axes: >"
      ]
     },
     "execution_count": 18,
     "metadata": {},
     "output_type": "execute_result"
    },
    {
     "data": {
      "image/png": "[encoded data removed]",
      "text/plain": [
       "<Figure size 1800x720 with 2 Axes>"
      ]
     },
     "metadata": {
      "needs_background": "light"
     },
     "output_type": "display_data"
    }
   ],
   "source": [
    "msno.matrix(dataset)"
   ]
  },
  {
   "cell_type": "markdown",
   "id": "7299d313",
   "metadata": {},
   "source": [
    "## Les valeurs uniques:"
   ]
  },
  {
   "cell_type": "code",
   "execution_count": 19,
   "id": "b578ff22",
   "metadata": {},
   "outputs": [
    {
     "data": {
      "text/html": [
       "<div>\n",
       "<style scoped>\n",
       "    .dataframe tbody tr th:only-of-type {\n",
       "        vertical-align: middle;\n",
       "    }\n",
       "\n",
       "    .dataframe tbody tr th {\n",
       "        vertical-align: top;\n",
       "    }\n",
       "\n",
       "    .dataframe thead th {\n",
       "        text-align: right;\n",
       "    }\n",
       "</style>\n",
       "<table border=\"1\" class=\"dataframe\">\n",
       "  <thead>\n",
       "    <tr style=\"text-align: right;\">\n",
       "      <th></th>\n",
       "      <th>Number cat</th>\n",
       "      <th>Categorical values</th>\n",
       "    </tr>\n",
       "  </thead>\n",
       "  <tbody>\n",
       "    <tr>\n",
       "      <th>Sexe</th>\n",
       "      <td>2</td>\n",
       "      <td>[Homme, Femme]</td>\n",
       "    </tr>\n",
       "    <tr>\n",
       "      <th>Emploi</th>\n",
       "      <td>4</td>\n",
       "      <td>[employe qualifie, resident non qualifie, independant de gestion, chomeur non resident]</td>\n",
       "    </tr>\n",
       "    <tr>\n",
       "      <th>statut_personnel</th>\n",
       "      <td>3</td>\n",
       "      <td>[Celibataire, nan, divorce, marie]</td>\n",
       "    </tr>\n",
       "    <tr>\n",
       "      <th>historique de credit</th>\n",
       "      <td>5</td>\n",
       "      <td>[critique, rembourse, entierement rembourse, entierement rembourse cette banque, retarde]</td>\n",
       "    </tr>\n",
       "    <tr>\n",
       "      <th>but</th>\n",
       "      <td>10</td>\n",
       "      <td>[Electronique, meubles, education, voiture (occasion), voiture (neuve), Entreprise, reparations, autres, appareils electromenagers, reconversion]</td>\n",
       "    </tr>\n",
       "    <tr>\n",
       "      <th>duree_emploi</th>\n",
       "      <td>31</td>\n",
       "      <td>[13 ans, 2 annees, 5 annees, 4 annees, nan, 6 mois, 5 mois, 3 annees, 1 ans, 17 ans, 3 mois, 9 annees, 4 mois, 10 mois, 11 ans, 7 mois, 19 annees, 7 ans, 14 ans, 1 mois, 18 ans, 16 ans, 15 ans, 6 ans, 8 annees, 12 ans, 2 mois, 0 mois, 9 mois, 10 annees, 8 mois, 11 mois]</td>\n",
       "    </tr>\n",
       "    <tr>\n",
       "      <th>autres_debiteurs</th>\n",
       "      <td>3</td>\n",
       "      <td>[rien, garant, codemandeur]</td>\n",
       "    </tr>\n",
       "    <tr>\n",
       "      <th>Historique residence</th>\n",
       "      <td>36</td>\n",
       "      <td>[6 ans, 5 mois, 13 ans, 8 annees, 3 mois, 24 ans, 10 mois, nan, 10 annees, 19 annees, 0 mois, 7 ans, 3 annees, 7 mois, 1 ans, 16 ans, 6 mois, 2 annees, 20 ans, 11 mois, 8 mois, 14 ans, 21 ans, 5 annees, 9 mois, 2 mois, 15 ans, 11 ans, 18 ans, 22 ans, 23 annees, 4 mois, 12 ans, 4 annees, 1 mois, 17 ans, 9 annees]</td>\n",
       "    </tr>\n",
       "    <tr>\n",
       "      <th>propriete</th>\n",
       "      <td>4</td>\n",
       "      <td>[immobilier, l'epargne de la societe de construction, inconnu/aucun, autre]</td>\n",
       "    </tr>\n",
       "    <tr>\n",
       "      <th>logement</th>\n",
       "      <td>3</td>\n",
       "      <td>[propre, gratuitement, louer]</td>\n",
       "    </tr>\n",
       "  </tbody>\n",
       "</table>\n",
       "</div>"
      ],
      "text/plain": [
       "                      Number cat  \\\n",
       "Sexe                           2   \n",
       "Emploi                         4   \n",
       "statut_personnel               3   \n",
       "historique de credit           5   \n",
       "but                           10   \n",
       "duree_emploi                  31   \n",
       "autres_debiteurs               3   \n",
       "Historique residence          36   \n",
       "propriete                      4   \n",
       "logement                       3   \n",
       "\n",
       "                                                                                                                                                                                                                                                                                                                             Categorical values  \n",
       "Sexe                                                                                                                                                                                                                                                                                                                             [Homme, Femme]  \n",
       "Emploi                                                                                                                                                                                                                                                  [employe qualifie, resident non qualifie, independant de gestion, chomeur non resident]  \n",
       "statut_personnel                                                                                                                                                                                                                                                                                             [Celibataire, nan, divorce, marie]  \n",
       "historique de credit                                                                                                                                                                                                                                  [critique, rembourse, entierement rembourse, entierement rembourse cette banque, retarde]  \n",
       "but                                                                                                                                                                                           [Electronique, meubles, education, voiture (occasion), voiture (neuve), Entreprise, reparations, autres, appareils electromenagers, reconversion]  \n",
       "duree_emploi                                                     [13 ans, 2 annees, 5 annees, 4 annees, nan, 6 mois, 5 mois, 3 annees, 1 ans, 17 ans, 3 mois, 9 annees, 4 mois, 10 mois, 11 ans, 7 mois, 19 annees, 7 ans, 14 ans, 1 mois, 18 ans, 16 ans, 15 ans, 6 ans, 8 annees, 12 ans, 2 mois, 0 mois, 9 mois, 10 annees, 8 mois, 11 mois]  \n",
       "autres_debiteurs                                                                                                                                                                                                                                                                                                    [rien, garant, codemandeur]  \n",
       "Historique residence  [6 ans, 5 mois, 13 ans, 8 annees, 3 mois, 24 ans, 10 mois, nan, 10 annees, 19 annees, 0 mois, 7 ans, 3 annees, 7 mois, 1 ans, 16 ans, 6 mois, 2 annees, 20 ans, 11 mois, 8 mois, 14 ans, 21 ans, 5 annees, 9 mois, 2 mois, 15 ans, 11 ans, 18 ans, 22 ans, 23 annees, 4 mois, 12 ans, 4 annees, 1 mois, 17 ans, 9 annees]  \n",
       "propriete                                                                                                                                                                                                                                                           [immobilier, l'epargne de la societe de construction, inconnu/aucun, autre]  \n",
       "logement                                                                                                                                                                                                                                                                                                          [propre, gratuitement, louer]  "
      ]
     },
     "execution_count": 19,
     "metadata": {},
     "output_type": "execute_result"
    }
   ],
   "source": [
    "def unique_classes(dataframe):\n",
    "    output = pd.DataFrame()\n",
    "    output.index = pd.DataFrame(dataframe.select_dtypes('object').apply(pd.Series.nunique)).index\n",
    "    output['Number cat'] = dataframe.select_dtypes('object').apply(pd.Series.nunique).values\n",
    "    output['Categorical values'] = dataframe.select_dtypes('object').apply(pd.Series.unique).values\n",
    "    pd.set_option('display.max_colwidth', None)\n",
    "    return output\n",
    "unique_classes(dataset)"
   ]
  },
  {
   "cell_type": "code",
   "execution_count": 20,
   "id": "60901bc0",
   "metadata": {},
   "outputs": [
    {
     "data": {
      "text/plain": [
       "(4248, 18)"
      ]
     },
     "execution_count": 20,
     "metadata": {},
     "output_type": "execute_result"
    }
   ],
   "source": [
    "dataset.shape"
   ]
  },
  {
   "cell_type": "markdown",
   "id": "2614acf6",
   "metadata": {},
   "source": [
    "### 2)Data Cleaning: "
   ]
  },
  {
   "cell_type": "code",
   "execution_count": 21,
   "id": "a3c6c706",
   "metadata": {},
   "outputs": [],
   "source": [
    "def transform_year(Dataframe,x):\n",
    "    y = pd.DataFrame(Dataframe[x]).values.tolist()\n",
    "    output=[]\n",
    "    for i in range(Dataframe.shape[0]):\n",
    "        n = y[i][0]\n",
    "        if type(n) == float:\n",
    "            output.append(n)\n",
    "        else:\n",
    "            number = [int(temp)for temp in n.split() if temp.isdigit()]\n",
    "            if(\"annees\" in n) or (\"ans\" in n):\n",
    "                output.append(number[0]*12)\n",
    "            elif (\"mois\" in n) :\n",
    "                output.append(number[0])   \n",
    "            else:\n",
    "                output.append('nan')            \n",
    "    return output\n",
    "dataset[\"duree_emploi\"] = transform_year(dataset,\"duree_emploi\")"
   ]
  },
  {
   "cell_type": "code",
   "execution_count": 22,
   "id": "9dd3b865",
   "metadata": {},
   "outputs": [],
   "source": [
    "dataset.loc[(dataset.duree_emploi.isnull()), 'duree_emploi']= 0"
   ]
  },
  {
   "cell_type": "code",
   "execution_count": 23,
   "id": "c883e343",
   "metadata": {},
   "outputs": [
    {
     "data": {
      "text/html": [
       "<div>\n",
       "<style scoped>\n",
       "    .dataframe tbody tr th:only-of-type {\n",
       "        vertical-align: middle;\n",
       "    }\n",
       "\n",
       "    .dataframe tbody tr th {\n",
       "        vertical-align: top;\n",
       "    }\n",
       "\n",
       "    .dataframe thead th {\n",
       "        text-align: right;\n",
       "    }\n",
       "</style>\n",
       "<table border=\"1\" class=\"dataframe\">\n",
       "  <thead>\n",
       "    <tr style=\"text-align: right;\">\n",
       "      <th></th>\n",
       "      <th>Missing Count</th>\n",
       "      <th>Missing Count Ratio</th>\n",
       "      <th>Missing Count %</th>\n",
       "    </tr>\n",
       "  </thead>\n",
       "  <tbody>\n",
       "    <tr>\n",
       "      <th>statut_personnel</th>\n",
       "      <td>1260</td>\n",
       "      <td>0.296610</td>\n",
       "      <td>29.7</td>\n",
       "    </tr>\n",
       "    <tr>\n",
       "      <th>Historique residence</th>\n",
       "      <td>522</td>\n",
       "      <td>0.122881</td>\n",
       "      <td>12.3</td>\n",
       "    </tr>\n",
       "  </tbody>\n",
       "</table>\n",
       "</div>"
      ],
      "text/plain": [
       "                      Missing Count  Missing Count Ratio  Missing Count %\n",
       "statut_personnel               1260             0.296610             29.7\n",
       "Historique residence            522             0.122881             12.3"
      ]
     },
     "execution_count": 23,
     "metadata": {},
     "output_type": "execute_result"
    }
   ],
   "source": [
    "missing_columns(dataset)"
   ]
  },
  {
   "cell_type": "code",
   "execution_count": 24,
   "id": "85fc2acd",
   "metadata": {},
   "outputs": [],
   "source": [
    " dataset.loc[(dataset.statut_personnel.isnull()), 'statut_personnel']= 'Celibataire'"
   ]
  },
  {
   "cell_type": "code",
   "execution_count": 25,
   "id": "ec45bc19",
   "metadata": {},
   "outputs": [
    {
     "data": {
      "text/plain": [
       "0          6 ans\n",
       "1         5 mois\n",
       "2         13 ans\n",
       "3       8 annees\n",
       "4         3 mois\n",
       "          ...   \n",
       "4243     10 mois\n",
       "4244      4 mois\n",
       "4245       1 ans\n",
       "4246      16 ans\n",
       "4247    8 annees\n",
       "Name: Historique residence, Length: 4248, dtype: object"
      ]
     },
     "execution_count": 25,
     "metadata": {},
     "output_type": "execute_result"
    }
   ],
   "source": [
    "dataset[\"Historique residence\"]"
   ]
  },
  {
   "cell_type": "code",
   "execution_count": 26,
   "id": "752a49f1",
   "metadata": {},
   "outputs": [],
   "source": [
    "dataset[\"Historique residence\"] = transform_year(dataset,\"Historique residence\")"
   ]
  },
  {
   "cell_type": "code",
   "execution_count": 27,
   "id": "6c771f71",
   "metadata": {},
   "outputs": [],
   "source": [
    "dataset[\"Historique residence\"] = dataset['Historique residence'].fillna(dataset['Historique residence'].median())"
   ]
  },
  {
   "cell_type": "markdown",
   "id": "41dca784",
   "metadata": {},
   "source": [
    "### 3)Data Transformation:"
   ]
  },
  {
   "cell_type": "code",
   "execution_count": 28,
   "id": "83cbde7a",
   "metadata": {},
   "outputs": [
    {
     "name": "stdout",
     "output_type": "stream",
     "text": [
      "dataset: \n",
      "object     8\n",
      "int64      8\n",
      "float64    2\n",
      "Name: count, dtype: int64\n"
     ]
    }
   ],
   "source": [
    "print(\"dataset: \\n{}\".format(dataset.dtypes.value_counts()))"
   ]
  },
  {
   "cell_type": "code",
   "execution_count": 29,
   "id": "556513bd",
   "metadata": {},
   "outputs": [],
   "source": [
    "colonnes_object = dataset.select_dtypes(include=['object']).columns\n",
    "\n",
    "le = LabelEncoder()\n",
    "\n",
    "for col in colonnes_object:\n",
    "    dataset[col] = le.fit_transform(dataset[col])"
   ]
  },
  {
   "cell_type": "code",
   "execution_count": 30,
   "id": "b9d8ef69",
   "metadata": {},
   "outputs": [
    {
     "data": {
      "text/html": [
       "<div>\n",
       "<style scoped>\n",
       "    .dataframe tbody tr th:only-of-type {\n",
       "        vertical-align: middle;\n",
       "    }\n",
       "\n",
       "    .dataframe tbody tr th {\n",
       "        vertical-align: top;\n",
       "    }\n",
       "\n",
       "    .dataframe thead th {\n",
       "        text-align: right;\n",
       "    }\n",
       "</style>\n",
       "<table border=\"1\" class=\"dataframe\">\n",
       "  <thead>\n",
       "    <tr style=\"text-align: right;\">\n",
       "      <th></th>\n",
       "      <th>Sexe</th>\n",
       "      <th>age</th>\n",
       "      <th>Emploi</th>\n",
       "      <th>statut_personnel</th>\n",
       "      <th>mois_pret_duree</th>\n",
       "      <th>historique de credit</th>\n",
       "      <th>but</th>\n",
       "      <th>Prix ( TND)</th>\n",
       "      <th>personnes a charge</th>\n",
       "      <th>solde_d'epargne</th>\n",
       "      <th>duree_emploi</th>\n",
       "      <th>taux de versement ( par mois )</th>\n",
       "      <th>autres_debiteurs</th>\n",
       "      <th>Historique residence</th>\n",
       "      <th>propriete</th>\n",
       "      <th>logement</th>\n",
       "      <th>credits_existants</th>\n",
       "      <th>Score</th>\n",
       "    </tr>\n",
       "  </thead>\n",
       "  <tbody>\n",
       "    <tr>\n",
       "      <th>0</th>\n",
       "      <td>1</td>\n",
       "      <td>67</td>\n",
       "      <td>1</td>\n",
       "      <td>0</td>\n",
       "      <td>6</td>\n",
       "      <td>0</td>\n",
       "      <td>0</td>\n",
       "      <td>2338</td>\n",
       "      <td>1</td>\n",
       "      <td>0</td>\n",
       "      <td>156.0</td>\n",
       "      <td>4</td>\n",
       "      <td>2</td>\n",
       "      <td>72.0</td>\n",
       "      <td>1</td>\n",
       "      <td>2</td>\n",
       "      <td>2</td>\n",
       "      <td>0</td>\n",
       "    </tr>\n",
       "    <tr>\n",
       "      <th>1</th>\n",
       "      <td>0</td>\n",
       "      <td>22</td>\n",
       "      <td>1</td>\n",
       "      <td>0</td>\n",
       "      <td>48</td>\n",
       "      <td>3</td>\n",
       "      <td>0</td>\n",
       "      <td>1190</td>\n",
       "      <td>1</td>\n",
       "      <td>890</td>\n",
       "      <td>24.0</td>\n",
       "      <td>2</td>\n",
       "      <td>2</td>\n",
       "      <td>5.0</td>\n",
       "      <td>1</td>\n",
       "      <td>2</td>\n",
       "      <td>1</td>\n",
       "      <td>1</td>\n",
       "    </tr>\n",
       "    <tr>\n",
       "      <th>2</th>\n",
       "      <td>1</td>\n",
       "      <td>45</td>\n",
       "      <td>1</td>\n",
       "      <td>0</td>\n",
       "      <td>42</td>\n",
       "      <td>3</td>\n",
       "      <td>5</td>\n",
       "      <td>15764</td>\n",
       "      <td>2</td>\n",
       "      <td>90</td>\n",
       "      <td>60.0</td>\n",
       "      <td>2</td>\n",
       "      <td>1</td>\n",
       "      <td>156.0</td>\n",
       "      <td>3</td>\n",
       "      <td>0</td>\n",
       "      <td>1</td>\n",
       "      <td>0</td>\n",
       "    </tr>\n",
       "    <tr>\n",
       "      <th>3</th>\n",
       "      <td>1</td>\n",
       "      <td>35</td>\n",
       "      <td>3</td>\n",
       "      <td>0</td>\n",
       "      <td>36</td>\n",
       "      <td>3</td>\n",
       "      <td>4</td>\n",
       "      <td>18110</td>\n",
       "      <td>2</td>\n",
       "      <td>0</td>\n",
       "      <td>24.0</td>\n",
       "      <td>2</td>\n",
       "      <td>2</td>\n",
       "      <td>96.0</td>\n",
       "      <td>2</td>\n",
       "      <td>0</td>\n",
       "      <td>1</td>\n",
       "      <td>0</td>\n",
       "    </tr>\n",
       "    <tr>\n",
       "      <th>4</th>\n",
       "      <td>1</td>\n",
       "      <td>35</td>\n",
       "      <td>2</td>\n",
       "      <td>0</td>\n",
       "      <td>36</td>\n",
       "      <td>3</td>\n",
       "      <td>9</td>\n",
       "      <td>13896</td>\n",
       "      <td>1</td>\n",
       "      <td>570</td>\n",
       "      <td>24.0</td>\n",
       "      <td>2</td>\n",
       "      <td>2</td>\n",
       "      <td>3.0</td>\n",
       "      <td>0</td>\n",
       "      <td>1</td>\n",
       "      <td>1</td>\n",
       "      <td>0</td>\n",
       "    </tr>\n",
       "    <tr>\n",
       "      <th>...</th>\n",
       "      <td>...</td>\n",
       "      <td>...</td>\n",
       "      <td>...</td>\n",
       "      <td>...</td>\n",
       "      <td>...</td>\n",
       "      <td>...</td>\n",
       "      <td>...</td>\n",
       "      <td>...</td>\n",
       "      <td>...</td>\n",
       "      <td>...</td>\n",
       "      <td>...</td>\n",
       "      <td>...</td>\n",
       "      <td>...</td>\n",
       "      <td>...</td>\n",
       "      <td>...</td>\n",
       "      <td>...</td>\n",
       "      <td>...</td>\n",
       "      <td>...</td>\n",
       "    </tr>\n",
       "    <tr>\n",
       "      <th>4243</th>\n",
       "      <td>1</td>\n",
       "      <td>29</td>\n",
       "      <td>2</td>\n",
       "      <td>0</td>\n",
       "      <td>24</td>\n",
       "      <td>3</td>\n",
       "      <td>9</td>\n",
       "      <td>13158</td>\n",
       "      <td>1</td>\n",
       "      <td>210</td>\n",
       "      <td>0.0</td>\n",
       "      <td>4</td>\n",
       "      <td>2</td>\n",
       "      <td>10.0</td>\n",
       "      <td>2</td>\n",
       "      <td>0</td>\n",
       "      <td>1</td>\n",
       "      <td>0</td>\n",
       "    </tr>\n",
       "    <tr>\n",
       "      <th>4244</th>\n",
       "      <td>1</td>\n",
       "      <td>48</td>\n",
       "      <td>3</td>\n",
       "      <td>0</td>\n",
       "      <td>24</td>\n",
       "      <td>0</td>\n",
       "      <td>0</td>\n",
       "      <td>3486</td>\n",
       "      <td>1</td>\n",
       "      <td>400</td>\n",
       "      <td>156.0</td>\n",
       "      <td>4</td>\n",
       "      <td>2</td>\n",
       "      <td>4.0</td>\n",
       "      <td>3</td>\n",
       "      <td>2</td>\n",
       "      <td>2</td>\n",
       "      <td>0</td>\n",
       "    </tr>\n",
       "    <tr>\n",
       "      <th>4245</th>\n",
       "      <td>1</td>\n",
       "      <td>50</td>\n",
       "      <td>1</td>\n",
       "      <td>0</td>\n",
       "      <td>12</td>\n",
       "      <td>3</td>\n",
       "      <td>8</td>\n",
       "      <td>4780</td>\n",
       "      <td>1</td>\n",
       "      <td>0</td>\n",
       "      <td>204.0</td>\n",
       "      <td>4</td>\n",
       "      <td>2</td>\n",
       "      <td>12.0</td>\n",
       "      <td>0</td>\n",
       "      <td>2</td>\n",
       "      <td>1</td>\n",
       "      <td>0</td>\n",
       "    </tr>\n",
       "    <tr>\n",
       "      <th>4246</th>\n",
       "      <td>1</td>\n",
       "      <td>38</td>\n",
       "      <td>1</td>\n",
       "      <td>0</td>\n",
       "      <td>12</td>\n",
       "      <td>3</td>\n",
       "      <td>0</td>\n",
       "      <td>1608</td>\n",
       "      <td>1</td>\n",
       "      <td>440</td>\n",
       "      <td>156.0</td>\n",
       "      <td>4</td>\n",
       "      <td>2</td>\n",
       "      <td>192.0</td>\n",
       "      <td>0</td>\n",
       "      <td>2</td>\n",
       "      <td>1</td>\n",
       "      <td>0</td>\n",
       "    </tr>\n",
       "    <tr>\n",
       "      <th>4247</th>\n",
       "      <td>1</td>\n",
       "      <td>23</td>\n",
       "      <td>1</td>\n",
       "      <td>0</td>\n",
       "      <td>45</td>\n",
       "      <td>3</td>\n",
       "      <td>0</td>\n",
       "      <td>3690</td>\n",
       "      <td>1</td>\n",
       "      <td>310</td>\n",
       "      <td>24.0</td>\n",
       "      <td>4</td>\n",
       "      <td>2</td>\n",
       "      <td>96.0</td>\n",
       "      <td>2</td>\n",
       "      <td>0</td>\n",
       "      <td>1</td>\n",
       "      <td>1</td>\n",
       "    </tr>\n",
       "  </tbody>\n",
       "</table>\n",
       "<p>4248 rows × 18 columns</p>\n",
       "</div>"
      ],
      "text/plain": [
       "      Sexe  age  Emploi  statut_personnel  mois_pret_duree  \\\n",
       "0        1   67       1                 0                6   \n",
       "1        0   22       1                 0               48   \n",
       "2        1   45       1                 0               42   \n",
       "3        1   35       3                 0               36   \n",
       "4        1   35       2                 0               36   \n",
       "...    ...  ...     ...               ...              ...   \n",
       "4243     1   29       2                 0               24   \n",
       "4244     1   48       3                 0               24   \n",
       "4245     1   50       1                 0               12   \n",
       "4246     1   38       1                 0               12   \n",
       "4247     1   23       1                 0               45   \n",
       "\n",
       "      historique de credit  but  Prix ( TND)  personnes a charge  \\\n",
       "0                        0    0         2338                   1   \n",
       "1                        3    0         1190                   1   \n",
       "2                        3    5        15764                   2   \n",
       "3                        3    4        18110                   2   \n",
       "4                        3    9        13896                   1   \n",
       "...                    ...  ...          ...                 ...   \n",
       "4243                     3    9        13158                   1   \n",
       "4244                     0    0         3486                   1   \n",
       "4245                     3    8         4780                   1   \n",
       "4246                     3    0         1608                   1   \n",
       "4247                     3    0         3690                   1   \n",
       "\n",
       "      solde_d'epargne  duree_emploi  taux de versement ( par mois )   \\\n",
       "0                   0         156.0                                4   \n",
       "1                 890          24.0                                2   \n",
       "2                  90          60.0                                2   \n",
       "3                   0          24.0                                2   \n",
       "4                 570          24.0                                2   \n",
       "...               ...           ...                              ...   \n",
       "4243              210           0.0                                4   \n",
       "4244              400         156.0                                4   \n",
       "4245                0         204.0                                4   \n",
       "4246              440         156.0                                4   \n",
       "4247              310          24.0                                4   \n",
       "\n",
       "      autres_debiteurs  Historique residence  propriete  logement  \\\n",
       "0                    2                  72.0          1         2   \n",
       "1                    2                   5.0          1         2   \n",
       "2                    1                 156.0          3         0   \n",
       "3                    2                  96.0          2         0   \n",
       "4                    2                   3.0          0         1   \n",
       "...                ...                   ...        ...       ...   \n",
       "4243                 2                  10.0          2         0   \n",
       "4244                 2                   4.0          3         2   \n",
       "4245                 2                  12.0          0         2   \n",
       "4246                 2                 192.0          0         2   \n",
       "4247                 2                  96.0          2         0   \n",
       "\n",
       "      credits_existants  Score  \n",
       "0                     2      0  \n",
       "1                     1      1  \n",
       "2                     1      0  \n",
       "3                     1      0  \n",
       "4                     1      0  \n",
       "...                 ...    ...  \n",
       "4243                  1      0  \n",
       "4244                  2      0  \n",
       "4245                  1      0  \n",
       "4246                  1      0  \n",
       "4247                  1      1  \n",
       "\n",
       "[4248 rows x 18 columns]"
      ]
     },
     "execution_count": 30,
     "metadata": {},
     "output_type": "execute_result"
    }
   ],
   "source": [
    "dataset"
   ]
  },
  {
   "cell_type": "code",
   "execution_count": 31,
   "id": "d28e7ce8",
   "metadata": {
    "scrolled": true
   },
   "outputs": [
    {
     "data": {
      "text/plain": [
       "Sexe                               0\n",
       "age                                0\n",
       "Emploi                             0\n",
       "statut_personnel                   0\n",
       "mois_pret_duree                    0\n",
       "historique de credit               0\n",
       "but                                0\n",
       "Prix ( TND)                        0\n",
       "personnes a charge                 0\n",
       "solde_d'epargne                    0\n",
       "duree_emploi                       0\n",
       "taux de versement ( par mois )     0\n",
       "autres_debiteurs                   0\n",
       "Historique residence               0\n",
       "propriete                          0\n",
       "logement                           0\n",
       "credits_existants                  0\n",
       "Score                              0\n",
       "dtype: int64"
      ]
     },
     "execution_count": 31,
     "metadata": {},
     "output_type": "execute_result"
    }
   ],
   "source": [
    "dataset.isna().sum()"
   ]
  },
  {
   "cell_type": "code",
   "execution_count": 32,
   "id": "74bf8fbc",
   "metadata": {},
   "outputs": [
    {
     "name": "stdout",
     "output_type": "stream",
     "text": [
      "Valeurs uniques pour la colonne Sexe: [1 0]\n",
      "Valeurs uniques pour la colonne age: [67 22 45 35 61 28 25 24 32 53 31 44 48 26 36 42 34 30 57 37 58 39 23 29\n",
      " 52 27 50 46 40 66 47 56 54 20 41 63 21 38 70 33 65 68 55 64 51 49 43 60\n",
      " 19 74 62 75 59]\n",
      "Valeurs uniques pour la colonne Emploi: [1 3 2 0]\n",
      "Valeurs uniques pour la colonne statut_personnel: [0 1 2]\n",
      "Valeurs uniques pour la colonne mois_pret_duree: [ 6 48 42 36 12 30 15 24 10  7 18 45 11 27  9 20 14 33 60 21  8 16  4 13\n",
      " 39  5 26 72 22 40 28]\n",
      "Valeurs uniques pour la colonne historique de credit: [0 3 1 2 4]\n",
      "Valeurs uniques pour la colonne but: [0 5 4 9 8 1 7 3 2 6]\n",
      "Valeurs uniques pour la colonne Prix ( TND): [ 2338  1190 15764 18110 13896  6118 10468 25900  8616  3134 28060  2564\n",
      "  4848 16144  6860  5294 44820  3608  4138  2748   818  4830  3826 11732\n",
      "  2528  9492 12220  4200  4666  2316 12408 12374 12286  2786  4598  2704\n",
      " 14456  4146 11930  2524  6756  4450  1566  1293  1913  3922 12458  2782\n",
      "  3074  3906 28842  6362 10380  4342  2014  3638  4788 16266  1460  3954\n",
      "  3052  7930  7664  2426  3510  4630  2824  4498  2216  1236  2818  7234\n",
      "  2636  4024  5244 14114  2938  4646  1864  3838  4890 12916 12156 15442\n",
      "  2820  3360  7156  4264  8562  4732  7736  3536  1562  3848  4242  1402\n",
      "  1278  3720  6998  5416  3968 20288  2480 17226  1532  1418  9590  6832\n",
      "  4924  4576  7132  1720  3164  2692 15516  2576  5744  2110 14616  5956\n",
      "  3154  7944  3870  1900  1526  4128  2828 14970  5154   676  3926  1142\n",
      " 19144  8910  3294  1768  2720  2350  1348  9182  7688  7830  4216  6062\n",
      "  3002  2764  1902  5520  8594  2336 10234  2990 21246  2826  6148  7670\n",
      "  3816  6208  7826  2728  2400  1414  9314 21922 15730  2956  8420  5014\n",
      "  4282  3088  3646  5534  2582  5044  1830  3190  2370  2516  1434  2408\n",
      "   866  1332  4300  8302  4060 14836  5368  4298  7624  2308  3314 10604\n",
      "  5496  2462  3066 17956  2804 24338  6120  5394  9222  3802  7756  9576\n",
      "  2048  2152  9592 15258 19920  2574  5490  1344  7608  2688 20254  3086\n",
      "  1454  2474   552  1370  2988  1416  8702  7286  8498  5820  2056 11602\n",
      "  3050  8946  2136 23180  8220  2550  8338 11486  7198  8878  7898  2918\n",
      "  1764  7516  3486  2272  2472  1918  6458 12398  2492  4662  8926  2478\n",
      "  6798  4494  3532  4946  3084  7700  7300  6158 12140  4292 27512 29564\n",
      " 15370  4640  1692   724  4424 25952  8544  4476  2252 14748  4652  2898\n",
      "  3640  1966  6498  3914  4812 23520  4696  3032  2946  3774 17296  5798\n",
      "  6470  1878  3934  4584  2762 11684  5158 16942  5564  2084  4056  1916\n",
      "  3182  5558  2298  2380  6896 22656  3744  4116  4272  2968  1320  6788\n",
      "  1218  3768  5258  1438  2488  3684  5152  2848  3024 22108  5518  9634\n",
      "  5358  7810  9188  7240  1508  3900  5848  3318 14476  9358   896  2476\n",
      "  2490  5138 10304  2074  7146  2402  7244  1920  2418  6154  7514  2836\n",
      "  7036  3868 16636  4244  5992  6246 10986  2432  2414  4720 13700 17176\n",
      "  1518  9372  4510  2722 14254  2406 11014  6380  6976 15932  3064  3006\n",
      "  1324  4546  2622  6210  4638  7224 15526  6098  4064 12700  5728  2510\n",
      "  2666  4044  3500 13998  2662  4556 10006  5928  3092  1366 24778  9424\n",
      "  3106 13516  6468 10866  1612  5576  5860  3854  2112  6248  2776  4768\n",
      "  4266  4078  5598  2578  2434   770  3930  3144  5436  2716  1862  2884\n",
      "  5550  1836  3674  6698  9052  5342  1482  6714  7264  3616 24408 18314\n",
      "  6882  1280  7304  3060  3716  5200  3958  4232  2874  3960  2752 31306\n",
      "  2986  2616  9246  3702 15960  9166  1894  1368 14952  3844  4606 16172\n",
      "  4692  7946  1776 12722  2594  1800  4482  2100  2094  7218  9686 11484\n",
      "  5160  9060 10300 11190  3076  4558 10206 19714 13054  2694  5724  5506\n",
      "  7302  5262  5792  9432  4568  1852  3600  3810  2246 12662  2754  5006\n",
      "  5056 10648 13120  2412  4952  2276  3010  6296 12296  2674  1580  5140\n",
      "   500  2632 12832 12806  3974  6760  8760 13522  8560  4650  2096  4966\n",
      " 28358  3594  5022 10496  1952  1682  2598  2542  4428 25360  2310  3310\n",
      "  4446  7070  7018 11422  7744  9866  3880  1672 12936  3882  5350 12448\n",
      " 11996  2376 12626  6124  4602 15022  3098  3194  3590 14944 18542  1180\n",
      "  1860 18566  3556  1814 19258  6102  7862  2676 31714  2202  6032  5424\n",
      "  1462  7560  3204  7932 16670 23632  4654  2164  1772  1202  5914  5222\n",
      "  5986  3118  6844  7952  2498  4470  8084  2942  2948  7918  4338  4878\n",
      "  4420  4778  6662 14818  1304 15356  1748  7180  2644  7190  2844 18554\n",
      "  4362  2196  8114  1590  5650 13228 15648  4884 11600 17894  5212  6970\n",
      " 20954  2214  7526  7422  7188  9472  5982  6322 36848  5696 29792  4718\n",
      "  3634  4004 13744  1394 20594  3734  3494  3340  2448  1044  4126 12576\n",
      " 13684  7054 16716  7242  4290  8226  3786  7312  8012  6138  3480  4706\n",
      "  7112  4794  5040  7136 14332  7878  3028 14786  2386 14594  5662  5076\n",
      "  9688  5846 12578 13158  4780  1608  3690]\n",
      "Valeurs uniques pour la colonne personnes a charge: [1 2 3]\n",
      "Valeurs uniques pour la colonne solde_d'epargne: [     0    890     90    570  18426    520    930    710    480    860\n",
      "   2090   5350   5300    140   3610    750  78580    100  93430   2050\n",
      "    630    410     40   9570   6410    900   1180    120   8800   8790\n",
      "    990   3080    780    500    310    810    350    300    370    730\n",
      "    820    160  48650    540     70    380   7010    290    770   3260\n",
      "    550    110  18360   1200   3550    440    840    600    510    660\n",
      "   9990   8410   6700   5120    580    560    490    260    190    940\n",
      "   4450 180770   9090 120480    180     20   4160    800  26570   3850\n",
      "     50 123000   3140   2810    150   6860   9580 198350    280    880\n",
      "   8380    590    130    240    830   3110 184840   2890    420   3310\n",
      "    640    330  97080    530  28390   8960   4060   4130    250    650\n",
      "     80   4920    700  80630    210   4720    400   2760   3180    320\n",
      "    980    720   6470   2130   2730    680 145750     30   9430  27850\n",
      "   2800    760  38580   3990    610   7900   2650  61950    230   5550\n",
      "    970    340    430   3220   2240   1700   9270    690  96970   1480\n",
      " 101970   9120   8110    850    450   9140   2320  12160    220   5610\n",
      " 183180    740  15250    870    960    620   8170   1260     10 149570\n",
      " 162420    360   3880   1060   3290   5590   2190   2060    460   1990\n",
      "   4100   1640   5160    950     60    470    920 194850   2410   4080\n",
      "  31380   3150   4730   7190    270    390   4400    170   1110   5620\n",
      "   4860   3710   2530   4260 199700   4630   4810   9930   1440   2830\n",
      "   9960   1020   1220   5340  60020 192950   1570   3640   4360   9400\n",
      "   4640    910 183530  46190   4000 127650   5540    790   2790   8510\n",
      "    670   2330 110070   6200   2870 181850   2310   4020   6320   3530\n",
      "   5790   4750   5950   1720   6740   6910   4210   5720   2080   2390]\n",
      "Valeurs uniques pour la colonne duree_emploi: [156.  24.  60.  48.   0.   6.   5.  36.  12. 204.   3. 108.   4.  10.\n",
      " 132.   7. 228.  84. 168.   1. 216. 192. 180.  72.  96. 144.   2.   9.\n",
      " 120.   8.  11.]\n",
      "Valeurs uniques pour la colonne taux de versement ( par mois ) : [4 2 3 1]\n",
      "Valeurs uniques pour la colonne autres_debiteurs: [2 1 0]\n",
      "Valeurs uniques pour la colonne Historique residence: [ 72.   5. 156.  96.   3. 288.  10.  48. 120. 228.   0.  84.  36.   7.\n",
      "  12. 192.   6.  24. 240.  11.   8. 168. 252.  60.   9.   2. 180. 132.\n",
      " 216. 264. 276.   4. 144.   1. 204. 108.]\n",
      "Valeurs uniques pour la colonne propriete: [1 3 2 0]\n",
      "Valeurs uniques pour la colonne logement: [2 0 1]\n",
      "Valeurs uniques pour la colonne credits_existants: [2 1 3 4]\n",
      "Valeurs uniques pour la colonne Score: [0 1]\n"
     ]
    }
   ],
   "source": [
    "for column in dataset.columns:\n",
    "    unique_values = dataset[column].unique()\n",
    "    print(f\"Valeurs uniques pour la colonne {column}: {unique_values}\")"
   ]
  },
  {
   "cell_type": "code",
   "execution_count": 33,
   "id": "44396aef",
   "metadata": {},
   "outputs": [],
   "source": [
    "# Renommer les colonnes du nouvel échantillon\n",
    "dataset.rename(columns={\n",
    "    'Prix ( TND)': 'Prix',\n",
    "    'historique de credit': 'historique_credit',\n",
    "    'taux de versement ( par mois ) ': 'taux_versement_mensuel',\n",
    "    'solde_d\\'epargne': 'solde_epargne',\n",
    "    'duree_emploi': 'duree_emploi',\n",
    "    'age': 'age',\n",
    "    'logement': 'logement',\n",
    "    'mois_pret_duree': 'mois_pret_duree'\n",
    "}, inplace=True)"
   ]
  },
  {
   "cell_type": "code",
   "execution_count": 34,
   "id": "03d78502",
   "metadata": {
    "scrolled": true
   },
   "outputs": [
    {
     "name": "stdout",
     "output_type": "stream",
     "text": [
      "Score                     1.000000\n",
      "mois_pret_duree           0.232584\n",
      "historique_credit         0.118673\n",
      "Prix                      0.105302\n",
      "taux_versement_mensuel    0.102838\n",
      "but                       0.026162\n",
      "propriete                 0.009649\n",
      "Emploi                   -0.005006\n",
      "statut_personnel         -0.005077\n",
      "Historique residence     -0.005993\n",
      "autres_debiteurs         -0.043702\n",
      "credits_existants        -0.048798\n",
      "personnes a charge       -0.049179\n",
      "Sexe                     -0.077175\n",
      "solde_epargne            -0.092722\n",
      "duree_emploi             -0.099463\n",
      "age                      -0.102701\n",
      "logement                 -0.116083\n",
      "Name: Score, dtype: float64\n"
     ]
    }
   ],
   "source": [
    "corr_matrix = dataset.corr()\n",
    "\n",
    "target_corr = corr_matrix[dataset.columns[-1]].sort_values(ascending=False)\n",
    "print(target_corr)"
   ]
  },
  {
   "cell_type": "code",
   "execution_count": 35,
   "id": "2a35dfcf",
   "metadata": {},
   "outputs": [],
   "source": [
    "threshold = 0.09\n",
    "important_columns = target_corr[target_corr.abs() > threshold].index"
   ]
  },
  {
   "cell_type": "code",
   "execution_count": 36,
   "id": "1866ea97",
   "metadata": {},
   "outputs": [
    {
     "data": {
      "text/plain": [
       "Index(['Score', 'mois_pret_duree', 'historique_credit', 'Prix',\n",
       "       'taux_versement_mensuel', 'solde_epargne', 'duree_emploi', 'age',\n",
       "       'logement'],\n",
       "      dtype='object')"
      ]
     },
     "execution_count": 36,
     "metadata": {},
     "output_type": "execute_result"
    }
   ],
   "source": [
    "important_columns"
   ]
  },
  {
   "cell_type": "markdown",
   "id": "652d944d",
   "metadata": {},
   "source": [
    "## II-Modélisation:"
   ]
  },
  {
   "cell_type": "code",
   "execution_count": 37,
   "id": "62ec0a80",
   "metadata": {},
   "outputs": [],
   "source": [
    "X = dataset[important_columns.drop('Score')]\n",
    "y = dataset['Score']"
   ]
  },
  {
   "cell_type": "code",
   "execution_count": 38,
   "id": "6c48da0b",
   "metadata": {},
   "outputs": [
    {
     "data": {
      "text/html": [
       "<div>\n",
       "<style scoped>\n",
       "    .dataframe tbody tr th:only-of-type {\n",
       "        vertical-align: middle;\n",
       "    }\n",
       "\n",
       "    .dataframe tbody tr th {\n",
       "        vertical-align: top;\n",
       "    }\n",
       "\n",
       "    .dataframe thead th {\n",
       "        text-align: right;\n",
       "    }\n",
       "</style>\n",
       "<table border=\"1\" class=\"dataframe\">\n",
       "  <thead>\n",
       "    <tr style=\"text-align: right;\">\n",
       "      <th></th>\n",
       "      <th>mois_pret_duree</th>\n",
       "      <th>historique_credit</th>\n",
       "      <th>Prix</th>\n",
       "      <th>taux_versement_mensuel</th>\n",
       "      <th>solde_epargne</th>\n",
       "      <th>duree_emploi</th>\n",
       "      <th>age</th>\n",
       "      <th>logement</th>\n",
       "    </tr>\n",
       "  </thead>\n",
       "  <tbody>\n",
       "    <tr>\n",
       "      <th>0</th>\n",
       "      <td>6</td>\n",
       "      <td>0</td>\n",
       "      <td>2338</td>\n",
       "      <td>4</td>\n",
       "      <td>0</td>\n",
       "      <td>156.0</td>\n",
       "      <td>67</td>\n",
       "      <td>2</td>\n",
       "    </tr>\n",
       "    <tr>\n",
       "      <th>1</th>\n",
       "      <td>48</td>\n",
       "      <td>3</td>\n",
       "      <td>1190</td>\n",
       "      <td>2</td>\n",
       "      <td>890</td>\n",
       "      <td>24.0</td>\n",
       "      <td>22</td>\n",
       "      <td>2</td>\n",
       "    </tr>\n",
       "    <tr>\n",
       "      <th>2</th>\n",
       "      <td>42</td>\n",
       "      <td>3</td>\n",
       "      <td>15764</td>\n",
       "      <td>2</td>\n",
       "      <td>90</td>\n",
       "      <td>60.0</td>\n",
       "      <td>45</td>\n",
       "      <td>0</td>\n",
       "    </tr>\n",
       "    <tr>\n",
       "      <th>3</th>\n",
       "      <td>36</td>\n",
       "      <td>3</td>\n",
       "      <td>18110</td>\n",
       "      <td>2</td>\n",
       "      <td>0</td>\n",
       "      <td>24.0</td>\n",
       "      <td>35</td>\n",
       "      <td>0</td>\n",
       "    </tr>\n",
       "    <tr>\n",
       "      <th>4</th>\n",
       "      <td>36</td>\n",
       "      <td>3</td>\n",
       "      <td>13896</td>\n",
       "      <td>2</td>\n",
       "      <td>570</td>\n",
       "      <td>24.0</td>\n",
       "      <td>35</td>\n",
       "      <td>1</td>\n",
       "    </tr>\n",
       "    <tr>\n",
       "      <th>...</th>\n",
       "      <td>...</td>\n",
       "      <td>...</td>\n",
       "      <td>...</td>\n",
       "      <td>...</td>\n",
       "      <td>...</td>\n",
       "      <td>...</td>\n",
       "      <td>...</td>\n",
       "      <td>...</td>\n",
       "    </tr>\n",
       "    <tr>\n",
       "      <th>4243</th>\n",
       "      <td>24</td>\n",
       "      <td>3</td>\n",
       "      <td>13158</td>\n",
       "      <td>4</td>\n",
       "      <td>210</td>\n",
       "      <td>0.0</td>\n",
       "      <td>29</td>\n",
       "      <td>0</td>\n",
       "    </tr>\n",
       "    <tr>\n",
       "      <th>4244</th>\n",
       "      <td>24</td>\n",
       "      <td>0</td>\n",
       "      <td>3486</td>\n",
       "      <td>4</td>\n",
       "      <td>400</td>\n",
       "      <td>156.0</td>\n",
       "      <td>48</td>\n",
       "      <td>2</td>\n",
       "    </tr>\n",
       "    <tr>\n",
       "      <th>4245</th>\n",
       "      <td>12</td>\n",
       "      <td>3</td>\n",
       "      <td>4780</td>\n",
       "      <td>4</td>\n",
       "      <td>0</td>\n",
       "      <td>204.0</td>\n",
       "      <td>50</td>\n",
       "      <td>2</td>\n",
       "    </tr>\n",
       "    <tr>\n",
       "      <th>4246</th>\n",
       "      <td>12</td>\n",
       "      <td>3</td>\n",
       "      <td>1608</td>\n",
       "      <td>4</td>\n",
       "      <td>440</td>\n",
       "      <td>156.0</td>\n",
       "      <td>38</td>\n",
       "      <td>2</td>\n",
       "    </tr>\n",
       "    <tr>\n",
       "      <th>4247</th>\n",
       "      <td>45</td>\n",
       "      <td>3</td>\n",
       "      <td>3690</td>\n",
       "      <td>4</td>\n",
       "      <td>310</td>\n",
       "      <td>24.0</td>\n",
       "      <td>23</td>\n",
       "      <td>0</td>\n",
       "    </tr>\n",
       "  </tbody>\n",
       "</table>\n",
       "<p>4248 rows × 8 columns</p>\n",
       "</div>"
      ],
      "text/plain": [
       "      mois_pret_duree  historique_credit   Prix  taux_versement_mensuel  \\\n",
       "0                   6                  0   2338                       4   \n",
       "1                  48                  3   1190                       2   \n",
       "2                  42                  3  15764                       2   \n",
       "3                  36                  3  18110                       2   \n",
       "4                  36                  3  13896                       2   \n",
       "...               ...                ...    ...                     ...   \n",
       "4243               24                  3  13158                       4   \n",
       "4244               24                  0   3486                       4   \n",
       "4245               12                  3   4780                       4   \n",
       "4246               12                  3   1608                       4   \n",
       "4247               45                  3   3690                       4   \n",
       "\n",
       "      solde_epargne  duree_emploi  age  logement  \n",
       "0                 0         156.0   67         2  \n",
       "1               890          24.0   22         2  \n",
       "2                90          60.0   45         0  \n",
       "3                 0          24.0   35         0  \n",
       "4               570          24.0   35         1  \n",
       "...             ...           ...  ...       ...  \n",
       "4243            210           0.0   29         0  \n",
       "4244            400         156.0   48         2  \n",
       "4245              0         204.0   50         2  \n",
       "4246            440         156.0   38         2  \n",
       "4247            310          24.0   23         0  \n",
       "\n",
       "[4248 rows x 8 columns]"
      ]
     },
     "execution_count": 38,
     "metadata": {},
     "output_type": "execute_result"
    }
   ],
   "source": [
    "X"
   ]
  },
  {
   "cell_type": "code",
   "execution_count": 40,
   "id": "70457ef3",
   "metadata": {},
   "outputs": [],
   "source": [
    "X.to_csv('data_powerBI.csv', index=False)"
   ]
  },
  {
   "cell_type": "code",
   "execution_count": 54,
   "id": "2bcebfee",
   "metadata": {},
   "outputs": [],
   "source": [
    "X_train, X_test, y_train, y_test = train_test_split(X, y, test_size=0.2, random_state=42)"
   ]
  },
  {
   "cell_type": "code",
   "execution_count": 55,
   "id": "9430edcf",
   "metadata": {},
   "outputs": [],
   "source": [
    "models = {\n",
    "    \"LogisticRegression\": LogisticRegression(random_state=42, max_iter=10000),\n",
    "    \"SVM\": SVC(random_state=42),\n",
    "    \"KNeighbors\": KNeighborsClassifier(),\n",
    "    \"GradientBoosting\": GradientBoostingClassifier(random_state=42),\n",
    "    \"AdaBoost\": AdaBoostClassifier(random_state=42)\n",
    "}"
   ]
  },
  {
   "cell_type": "code",
   "execution_count": 56,
   "id": "4513e6fe",
   "metadata": {},
   "outputs": [],
   "source": [
    "results = {}\n",
    "best_model_name = None\n",
    "best_accuracy = 0\n",
    "best_model = None\n",
    "\n",
    "for name, model in models.items():\n",
    "    model.fit(X_train, y_train)\n",
    "    \n",
    "    y_pred = model.predict(X_test)\n",
    "    \n",
    "\n",
    "    accuracy = accuracy_score(y_test, y_pred)\n",
    "    recall = recall_score(y_test, y_pred, average='weighted')\n",
    "    f1 = f1_score(y_test, y_pred, average='weighted')\n",
    "    cm = confusion_matrix(y_test, y_pred)\n",
    "\n",
    "    results[name] = {\n",
    "        \"accuracy\": accuracy,\n",
    "        \"recall\": recall,\n",
    "        \"f1_score\": f1,\n",
    "        \"confusion_matrix\": cm\n",
    "    }\n",
    "    \n",
    "\n",
    "    if accuracy > best_accuracy:\n",
    "        best_accuracy = accuracy\n",
    "        best_model_name = name\n",
    "        best_model = model"
   ]
  },
  {
   "cell_type": "code",
   "execution_count": 57,
   "id": "2d4f8c11",
   "metadata": {},
   "outputs": [
    {
     "name": "stdout",
     "output_type": "stream",
     "text": [
      "Model: LogisticRegression\n",
      "Accuracy: 0.72\n",
      "Recall: 0.72\n",
      "F1 Score: 0.66\n",
      "Confusion Matrix:\n",
      "[[574  19]\n",
      " [215  42]]\n",
      "\n",
      "Model: SVM\n",
      "Accuracy: 0.70\n",
      "Recall: 0.70\n",
      "F1 Score: 0.58\n",
      "Confusion Matrix:\n",
      "[[593   0]\n",
      " [255   2]]\n",
      "\n",
      "Model: KNeighbors\n",
      "Accuracy: 0.99\n",
      "Recall: 0.99\n",
      "F1 Score: 0.99\n",
      "Confusion Matrix:\n",
      "[[593   0]\n",
      " [  9 248]]\n",
      "\n",
      "Model: GradientBoosting\n",
      "Accuracy: 0.86\n",
      "Recall: 0.86\n",
      "F1 Score: 0.85\n",
      "Confusion Matrix:\n",
      "[[576  17]\n",
      " [101 156]]\n",
      "\n",
      "Model: AdaBoost\n",
      "Accuracy: 0.77\n",
      "Recall: 0.77\n",
      "F1 Score: 0.76\n",
      "Confusion Matrix:\n",
      "[[537  56]\n",
      " [137 120]]\n",
      "\n"
     ]
    }
   ],
   "source": [
    "for name, metrics in results.items():\n",
    "    print(f\"Model: {name}\")\n",
    "    print(f\"Accuracy: {metrics['accuracy']:.2f}\")\n",
    "    print(f\"Recall: {metrics['recall']:.2f}\")\n",
    "    print(f\"F1 Score: {metrics['f1_score']:.2f}\")\n",
    "    print(f\"Confusion Matrix:\\n{metrics['confusion_matrix']}\\n\")"
   ]
  },
  {
   "cell_type": "markdown",
   "id": "24714858",
   "metadata": {},
   "source": [
    "### Enregistrer le meilleur modèle (.pkl)"
   ]
  },
  {
   "cell_type": "code",
   "execution_count": 58,
   "id": "b5dc222e",
   "metadata": {},
   "outputs": [
    {
     "name": "stdout",
     "output_type": "stream",
     "text": [
      "Le meilleur modèle 'KNeighbors' a été enregistré sous le nom 'KNeighbors_scoring_clients.pkl'.\n"
     ]
    }
   ],
   "source": [
    "if best_model:\n",
    "    joblib.dump(best_model, f\"{best_model_name}_scoring_clients.pkl\")\n",
    "    print(f\"Le meilleur modèle '{best_model_name}' a été enregistré sous le nom '{best_model_name}_scoring_clients.pkl'.\")"
   ]
  },
  {
   "cell_type": "markdown",
   "id": "98e47308",
   "metadata": {},
   "source": [
    "### Evaluation:"
   ]
  },
  {
   "cell_type": "code",
   "execution_count": 67,
   "id": "d953120b",
   "metadata": {},
   "outputs": [
    {
     "name": "stdout",
     "output_type": "stream",
     "text": [
      "Accuracy sur l'ensemble d'entraînement: 1.00\n"
     ]
    }
   ],
   "source": [
    "y_train_pred = best_model.predict(X_train)\n",
    "train_accuracy = accuracy_score(y_train, y_train_pred)\n",
    "print(f\"Accuracy sur l'ensemble d'entraînement: {train_accuracy:.2f}\")"
   ]
  },
  {
   "cell_type": "code",
   "execution_count": 71,
   "id": "aa46f612",
   "metadata": {},
   "outputs": [
    {
     "name": "stdout",
     "output_type": "stream",
     "text": [
      "Accuracy moyenne en validation croisée: 1.00\n",
      "Écart type des scores de validation croisée: 0.00\n"
     ]
    }
   ],
   "source": [
    "from sklearn.model_selection import cross_val_score\n",
    "\n",
    "cv_scores = cross_val_score(best_model, X, y, cv=5)\n",
    "print(f\"Accuracy moyenne en validation croisée: {cv_scores.mean():.2f}\")\n",
    "print(f\"Écart type des scores de validation croisée: {cv_scores.std():.2f}\")"
   ]
  },
  {
   "cell_type": "code",
   "execution_count": 69,
   "id": "cb058858",
   "metadata": {},
   "outputs": [
    {
     "data": {
      "image/png": "[encoded data removed]",
      "text/plain": [
       "<Figure size 432x288 with 1 Axes>"
      ]
     },
     "metadata": {
      "needs_background": "light"
     },
     "output_type": "display_data"
    }
   ],
   "source": [
    "from sklearn.model_selection import learning_curve\n",
    "\n",
    "train_sizes, train_scores, test_scores = learning_curve(best_model, X, y, cv=5, n_jobs=-1, train_sizes=np.linspace(0.1, 1.0, 10))\n",
    "\n",
    "train_scores_mean = train_scores.mean(axis=1)\n",
    "test_scores_mean = test_scores.mean(axis=1)\n",
    "\n",
    "plt.figure()\n",
    "plt.plot(train_sizes, train_scores_mean, label='Entraînement', color='blue')\n",
    "plt.plot(train_sizes, test_scores_mean, label='Test', color='orange')\n",
    "plt.title('Courbes d\\'apprentissage')\n",
    "plt.xlabel('Taille de l\\'échantillon d\\'entraînement')\n",
    "plt.ylabel('Score')\n",
    "plt.legend(loc='best')\n",
    "plt.grid()\n",
    "plt.show()"
   ]
  },
  {
   "cell_type": "markdown",
   "id": "bb011848",
   "metadata": {},
   "source": [
    "### Test model:"
   ]
  },
  {
   "cell_type": "code",
   "execution_count": 59,
   "id": "d27477c4",
   "metadata": {},
   "outputs": [],
   "source": [
    "# Load the model from the file\n",
    "model = joblib.load(f\"{best_model_name}_scoring_clients.pkl\")"
   ]
  },
  {
   "cell_type": "code",
   "execution_count": 3,
   "id": "e2781b16",
   "metadata": {},
   "outputs": [
    {
     "data": {
      "text/html": [
       "<style>#sk-container-id-1 {color: black;}#sk-container-id-1 pre{padding: 0;}#sk-container-id-1 div.sk-toggleable {background-color: white;}#sk-container-id-1 label.sk-toggleable__label {cursor: pointer;display: block;width: 100%;margin-bottom: 0;padding: 0.3em;box-sizing: border-box;text-align: center;}#sk-container-id-1 label.sk-toggleable__label-arrow:before {content: \"▸\";float: left;margin-right: 0.25em;color: #696969;}#sk-container-id-1 label.sk-toggleable__label-arrow:hover:before {color: black;}#sk-container-id-1 div.sk-estimator:hover label.sk-toggleable__label-arrow:before {color: black;}#sk-container-id-1 div.sk-toggleable__content {max-height: 0;max-width: 0;overflow: hidden;text-align: left;background-color: #f0f8ff;}#sk-container-id-1 div.sk-toggleable__content pre {margin: 0.2em;color: black;border-radius: 0.25em;background-color: #f0f8ff;}#sk-container-id-1 input.sk-toggleable__control:checked~div.sk-toggleable__content {max-height: 200px;max-width: 100%;overflow: auto;}#sk-container-id-1 input.sk-toggleable__control:checked~label.sk-toggleable__label-arrow:before {content: \"▾\";}#sk-container-id-1 div.sk-estimator input.sk-toggleable__control:checked~label.sk-toggleable__label {background-color: #d4ebff;}#sk-container-id-1 div.sk-label input.sk-toggleable__control:checked~label.sk-toggleable__label {background-color: #d4ebff;}#sk-container-id-1 input.sk-hidden--visually {border: 0;clip: rect(1px 1px 1px 1px);clip: rect(1px, 1px, 1px, 1px);height: 1px;margin: -1px;overflow: hidden;padding: 0;position: absolute;width: 1px;}#sk-container-id-1 div.sk-estimator {font-family: monospace;background-color: #f0f8ff;border: 1px dotted black;border-radius: 0.25em;box-sizing: border-box;margin-bottom: 0.5em;}#sk-container-id-1 div.sk-estimator:hover {background-color: #d4ebff;}#sk-container-id-1 div.sk-parallel-item::after {content: \"\";width: 100%;border-bottom: 1px solid gray;flex-grow: 1;}#sk-container-id-1 div.sk-label:hover label.sk-toggleable__label {background-color: #d4ebff;}#sk-container-id-1 div.sk-serial::before {content: \"\";position: absolute;border-left: 1px solid gray;box-sizing: border-box;top: 0;bottom: 0;left: 50%;z-index: 0;}#sk-container-id-1 div.sk-serial {display: flex;flex-direction: column;align-items: center;background-color: white;padding-right: 0.2em;padding-left: 0.2em;position: relative;}#sk-container-id-1 div.sk-item {position: relative;z-index: 1;}#sk-container-id-1 div.sk-parallel {display: flex;align-items: stretch;justify-content: center;background-color: white;position: relative;}#sk-container-id-1 div.sk-item::before, #sk-container-id-1 div.sk-parallel-item::before {content: \"\";position: absolute;border-left: 1px solid gray;box-sizing: border-box;top: 0;bottom: 0;left: 50%;z-index: -1;}#sk-container-id-1 div.sk-parallel-item {display: flex;flex-direction: column;z-index: 1;position: relative;background-color: white;}#sk-container-id-1 div.sk-parallel-item:first-child::after {align-self: flex-end;width: 50%;}#sk-container-id-1 div.sk-parallel-item:last-child::after {align-self: flex-start;width: 50%;}#sk-container-id-1 div.sk-parallel-item:only-child::after {width: 0;}#sk-container-id-1 div.sk-dashed-wrapped {border: 1px dashed gray;margin: 0 0.4em 0.5em 0.4em;box-sizing: border-box;padding-bottom: 0.4em;background-color: white;}#sk-container-id-1 div.sk-label label {font-family: monospace;font-weight: bold;display: inline-block;line-height: 1.2em;}#sk-container-id-1 div.sk-label-container {text-align: center;}#sk-container-id-1 div.sk-container {/* jupyter's `normalize.less` sets `[hidden] { display: none; }` but bootstrap.min.css set `[hidden] { display: none !important; }` so we also need the `!important` here to be able to override the default hidden behavior on the sphinx rendered scikit-learn.org. See: https://github.com/scikit-learn/scikit-learn/issues/21755 */display: inline-block !important;position: relative;}#sk-container-id-1 div.sk-text-repr-fallback {display: none;}</style><div id=\"sk-container-id-1\" class=\"sk-top-container\"><div class=\"sk-text-repr-fallback\"><pre>KNeighborsClassifier()</pre><b>In a Jupyter environment, please rerun this cell to show the HTML representation or trust the notebook. <br />On GitHub, the HTML representation is unable to render, please try loading this page with nbviewer.org.</b></div><div class=\"sk-container\" hidden><div class=\"sk-item\"><div class=\"sk-estimator sk-toggleable\"><input class=\"sk-toggleable__control sk-hidden--visually\" id=\"sk-estimator-id-1\" type=\"checkbox\" checked><label for=\"sk-estimator-id-1\" class=\"sk-toggleable__label sk-toggleable__label-arrow\">KNeighborsClassifier</label><div class=\"sk-toggleable__content\"><pre>KNeighborsClassifier()</pre></div></div></div></div></div>"
      ],
      "text/plain": [
       "KNeighborsClassifier()"
      ]
     },
     "execution_count": 3,
     "metadata": {},
     "output_type": "execute_result"
    }
   ],
   "source": [
    "model"
   ]
  },
  {
   "cell_type": "code",
   "execution_count": 61,
   "id": "7ecaa4b3",
   "metadata": {
    "scrolled": true
   },
   "outputs": [
    {
     "name": "stdout",
     "output_type": "stream",
     "text": [
      "Unique values in mois_pret_duree: [ 6 48 42 36 12 30 15 24 10  7 18 45 11 27  9 20 14 33 60 21  8 16  4 13\n",
      " 39  5 26 72 22 40 28]\n",
      "Unique values in historique_credit: [0 3 1 2 4]\n",
      "Unique values in Prix: [ 2338  1190 15764 18110 13896  6118 10468 25900  8616  3134 28060  2564\n",
      "  4848 16144  6860  5294 44820  3608  4138  2748   818  4830  3826 11732\n",
      "  2528  9492 12220  4200  4666  2316 12408 12374 12286  2786  4598  2704\n",
      " 14456  4146 11930  2524  6756  4450  1566  1293  1913  3922 12458  2782\n",
      "  3074  3906 28842  6362 10380  4342  2014  3638  4788 16266  1460  3954\n",
      "  3052  7930  7664  2426  3510  4630  2824  4498  2216  1236  2818  7234\n",
      "  2636  4024  5244 14114  2938  4646  1864  3838  4890 12916 12156 15442\n",
      "  2820  3360  7156  4264  8562  4732  7736  3536  1562  3848  4242  1402\n",
      "  1278  3720  6998  5416  3968 20288  2480 17226  1532  1418  9590  6832\n",
      "  4924  4576  7132  1720  3164  2692 15516  2576  5744  2110 14616  5956\n",
      "  3154  7944  3870  1900  1526  4128  2828 14970  5154   676  3926  1142\n",
      " 19144  8910  3294  1768  2720  2350  1348  9182  7688  7830  4216  6062\n",
      "  3002  2764  1902  5520  8594  2336 10234  2990 21246  2826  6148  7670\n",
      "  3816  6208  7826  2728  2400  1414  9314 21922 15730  2956  8420  5014\n",
      "  4282  3088  3646  5534  2582  5044  1830  3190  2370  2516  1434  2408\n",
      "   866  1332  4300  8302  4060 14836  5368  4298  7624  2308  3314 10604\n",
      "  5496  2462  3066 17956  2804 24338  6120  5394  9222  3802  7756  9576\n",
      "  2048  2152  9592 15258 19920  2574  5490  1344  7608  2688 20254  3086\n",
      "  1454  2474   552  1370  2988  1416  8702  7286  8498  5820  2056 11602\n",
      "  3050  8946  2136 23180  8220  2550  8338 11486  7198  8878  7898  2918\n",
      "  1764  7516  3486  2272  2472  1918  6458 12398  2492  4662  8926  2478\n",
      "  6798  4494  3532  4946  3084  7700  7300  6158 12140  4292 27512 29564\n",
      " 15370  4640  1692   724  4424 25952  8544  4476  2252 14748  4652  2898\n",
      "  3640  1966  6498  3914  4812 23520  4696  3032  2946  3774 17296  5798\n",
      "  6470  1878  3934  4584  2762 11684  5158 16942  5564  2084  4056  1916\n",
      "  3182  5558  2298  2380  6896 22656  3744  4116  4272  2968  1320  6788\n",
      "  1218  3768  5258  1438  2488  3684  5152  2848  3024 22108  5518  9634\n",
      "  5358  7810  9188  7240  1508  3900  5848  3318 14476  9358   896  2476\n",
      "  2490  5138 10304  2074  7146  2402  7244  1920  2418  6154  7514  2836\n",
      "  7036  3868 16636  4244  5992  6246 10986  2432  2414  4720 13700 17176\n",
      "  1518  9372  4510  2722 14254  2406 11014  6380  6976 15932  3064  3006\n",
      "  1324  4546  2622  6210  4638  7224 15526  6098  4064 12700  5728  2510\n",
      "  2666  4044  3500 13998  2662  4556 10006  5928  3092  1366 24778  9424\n",
      "  3106 13516  6468 10866  1612  5576  5860  3854  2112  6248  2776  4768\n",
      "  4266  4078  5598  2578  2434   770  3930  3144  5436  2716  1862  2884\n",
      "  5550  1836  3674  6698  9052  5342  1482  6714  7264  3616 24408 18314\n",
      "  6882  1280  7304  3060  3716  5200  3958  4232  2874  3960  2752 31306\n",
      "  2986  2616  9246  3702 15960  9166  1894  1368 14952  3844  4606 16172\n",
      "  4692  7946  1776 12722  2594  1800  4482  2100  2094  7218  9686 11484\n",
      "  5160  9060 10300 11190  3076  4558 10206 19714 13054  2694  5724  5506\n",
      "  7302  5262  5792  9432  4568  1852  3600  3810  2246 12662  2754  5006\n",
      "  5056 10648 13120  2412  4952  2276  3010  6296 12296  2674  1580  5140\n",
      "   500  2632 12832 12806  3974  6760  8760 13522  8560  4650  2096  4966\n",
      " 28358  3594  5022 10496  1952  1682  2598  2542  4428 25360  2310  3310\n",
      "  4446  7070  7018 11422  7744  9866  3880  1672 12936  3882  5350 12448\n",
      " 11996  2376 12626  6124  4602 15022  3098  3194  3590 14944 18542  1180\n",
      "  1860 18566  3556  1814 19258  6102  7862  2676 31714  2202  6032  5424\n",
      "  1462  7560  3204  7932 16670 23632  4654  2164  1772  1202  5914  5222\n",
      "  5986  3118  6844  7952  2498  4470  8084  2942  2948  7918  4338  4878\n",
      "  4420  4778  6662 14818  1304 15356  1748  7180  2644  7190  2844 18554\n",
      "  4362  2196  8114  1590  5650 13228 15648  4884 11600 17894  5212  6970\n",
      " 20954  2214  7526  7422  7188  9472  5982  6322 36848  5696 29792  4718\n",
      "  3634  4004 13744  1394 20594  3734  3494  3340  2448  1044  4126 12576\n",
      " 13684  7054 16716  7242  4290  8226  3786  7312  8012  6138  3480  4706\n",
      "  7112  4794  5040  7136 14332  7878  3028 14786  2386 14594  5662  5076\n",
      "  9688  5846 12578 13158  4780  1608  3690]\n",
      "Unique values in taux_versement_mensuel: [4 2 3 1]\n",
      "Unique values in solde_epargne: [     0    890     90    570  18426    520    930    710    480    860\n",
      "   2090   5350   5300    140   3610    750  78580    100  93430   2050\n",
      "    630    410     40   9570   6410    900   1180    120   8800   8790\n",
      "    990   3080    780    500    310    810    350    300    370    730\n",
      "    820    160  48650    540     70    380   7010    290    770   3260\n",
      "    550    110  18360   1200   3550    440    840    600    510    660\n",
      "   9990   8410   6700   5120    580    560    490    260    190    940\n",
      "   4450 180770   9090 120480    180     20   4160    800  26570   3850\n",
      "     50 123000   3140   2810    150   6860   9580 198350    280    880\n",
      "   8380    590    130    240    830   3110 184840   2890    420   3310\n",
      "    640    330  97080    530  28390   8960   4060   4130    250    650\n",
      "     80   4920    700  80630    210   4720    400   2760   3180    320\n",
      "    980    720   6470   2130   2730    680 145750     30   9430  27850\n",
      "   2800    760  38580   3990    610   7900   2650  61950    230   5550\n",
      "    970    340    430   3220   2240   1700   9270    690  96970   1480\n",
      " 101970   9120   8110    850    450   9140   2320  12160    220   5610\n",
      " 183180    740  15250    870    960    620   8170   1260     10 149570\n",
      " 162420    360   3880   1060   3290   5590   2190   2060    460   1990\n",
      "   4100   1640   5160    950     60    470    920 194850   2410   4080\n",
      "  31380   3150   4730   7190    270    390   4400    170   1110   5620\n",
      "   4860   3710   2530   4260 199700   4630   4810   9930   1440   2830\n",
      "   9960   1020   1220   5340  60020 192950   1570   3640   4360   9400\n",
      "   4640    910 183530  46190   4000 127650   5540    790   2790   8510\n",
      "    670   2330 110070   6200   2870 181850   2310   4020   6320   3530\n",
      "   5790   4750   5950   1720   6740   6910   4210   5720   2080   2390]\n",
      "Unique values in duree_emploi: [156.  24.  60.  48.   0.   6.   5.  36.  12. 204.   3. 108.   4.  10.\n",
      " 132.   7. 228.  84. 168.   1. 216. 192. 180.  72.  96. 144.   2.   9.\n",
      " 120.   8.  11.]\n",
      "Unique values in age: [67 22 45 35 61 28 25 24 32 53 31 44 48 26 36 42 34 30 57 37 58 39 23 29\n",
      " 52 27 50 46 40 66 47 56 54 20 41 63 21 38 70 33 65 68 55 64 51 49 43 60\n",
      " 19 74 62 75 59]\n",
      "Unique values in logement: [2 0 1]\n"
     ]
    }
   ],
   "source": [
    "for column in X.columns:\n",
    "    unique_values = X[column].unique()\n",
    "    print(f'Unique values in {column}:', unique_values)"
   ]
  },
  {
   "cell_type": "code",
   "execution_count": 62,
   "id": "5fb0ccaa",
   "metadata": {},
   "outputs": [
    {
     "data": {
      "text/plain": [
       "Index(['mois_pret_duree', 'historique_credit', 'Prix',\n",
       "       'taux_versement_mensuel', 'solde_epargne', 'duree_emploi', 'age',\n",
       "       'logement'],\n",
       "      dtype='object')"
      ]
     },
     "execution_count": 62,
     "metadata": {},
     "output_type": "execute_result"
    }
   ],
   "source": [
    "X.columns"
   ]
  },
  {
   "cell_type": "code",
   "execution_count": 5,
   "id": "d4960d3a",
   "metadata": {},
   "outputs": [
    {
     "name": "stdout",
     "output_type": "stream",
     "text": [
      "New sample: [6, 0, 2338, 4, 0, 150, 40, 2]\n",
      "Predicted class is 0\n"
     ]
    }
   ],
   "source": [
    "new_sample = [6, 0, 2338, 4, 0, 150, 40, 2]\n",
    "print('New sample: {}'.format(new_sample))\n",
    "\n",
    "column_names = ['mois_pret_duree', 'historique_credit', 'Prix', 'taux_versement_mensuel', 'solde_epargne', 'duree_emploi', 'age', 'logement']  # Remplacez par vos noms de colonnes réels\n",
    "new_sample_df = pd.DataFrame([new_sample], columns=column_names)\n",
    "\n",
    "pred = model.predict(new_sample_df)\n",
    "print('Predicted class is {}'.format(pred[0]))"
   ]
  },
  {
   "cell_type": "code",
   "execution_count": null,
   "id": "2f6fe878",
   "metadata": {},
   "outputs": [],
   "source": []
  }
 ],
 "metadata": {
  "kernelspec": {
   "display_name": "Python 3 (ipykernel)",
   "language": "python",
   "name": "python3"
  },
  "language_info": {
   "codemirror_mode": {
    "name": "ipython",
    "version": 3
   },
   "file_extension": ".py",
   "mimetype": "text/x-python",
   "name": "python",
   "nbconvert_exporter": "python",
   "pygments_lexer": "ipython3",
   "version": "3.8.8"
  }
 },
 "nbformat": 4,
 "nbformat_minor": 5
}
